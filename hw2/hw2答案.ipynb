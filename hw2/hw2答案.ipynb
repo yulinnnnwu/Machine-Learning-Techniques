{
 "cells": [
  {
   "cell_type": "code",
   "execution_count": 1,
   "metadata": {},
   "outputs": [],
   "source": [
    "import pandas as pd\n",
    "import numpy as np\n",
    "import math \n",
    "import scipy.linalg as lin\n",
    "import matplotlib.pyplot as plt"
   ]
  },
  {
   "cell_type": "markdown",
   "metadata": {},
   "source": [
    "## Q1:\n",
    "\n",
    "$$ min_{A,B} F(A,B) = \\frac{1}{N} \\sum_{n=1}^N ln (1+exp(-y_n(A * (w^T_{SVM}\\phi(x_n) + b_{SVM}) + B))) $$\n",
    "\n",
    "$$ = \\frac{1}{N} \\sum_{n=1}^N ln (1+exp(-y_n(A z_n + B))) $$\n",
    "\n",
    "\n",
    "\n",
    "$$ \\nabla F(A,B) = [\\frac{1}{N} \\sum_{n=1}^N \\frac{exp(-y_n(Az_n + B))}{1+exp(-y_n(Az_n + B))} (-y_nz_n),\\frac{1}{N} \\sum_{n=1}^N \\frac{exp(-y_n(Az_n + B))}{1+exp(-y_n(Az_n + B))} (-y_n)  ] $$\n",
    "\n",
    "$$ = \\frac{1}{N} \\sum_{n=1}^N \\frac{exp(-y_n(Az_n + B))}{1+exp(-y_n(Az_n + B))} [-y_nz_n,-y_n] $$\n",
    "\n",
    "$$ = \\frac{1}{N} \\sum_{n=1}^N p_n [-y_nz_n,-y_n] $$\n",
    "\n",
    "where $$ p_n = \\theta(-y_n(Az_n + B)), z_n = w^T_{SVM} \\phi(x_n) + b_{SVM} $$"
   ]
  },
  {
   "cell_type": "markdown",
   "metadata": {},
   "source": [
    "## Q2: \n",
    "\n",
    "$$H(F) = \\begin{pmatrix} \\partial F(A,A) & \\partial F(A,B) \\\\ \n",
    "\\partial F(B,A)& \\partial F(B,B) \\end{pmatrix} $$"
   ]
  },
  {
   "cell_type": "markdown",
   "metadata": {},
   "source": [
    "$$ H(F) = \\begin{pmatrix} \\frac{1}{N} \\sum_{n=1}^N y_n^2 * z_n^2 * p_n * (1 - p_n) & \\frac{1}{N} \\sum_{n=1}^N y_n^2 * z_n * p_n * (1 - p_n)  \\\\ \n",
    " \\frac{1}{N} \\sum_{n=1}^N y_n^2 *z_n * p_n * (1 - p_n) & \\frac{1}{N} \\sum_{n=1}^N y_n^2 * p_n * (1 - p_n)\\end{pmatrix} $$ "
   ]
  },
  {
   "cell_type": "markdown",
   "metadata": {},
   "source": [
    "want to prove that H(F) is positive semi-definite. \n",
    "\n",
    "(i) all eigenvalues are > 0. \n",
    "\n",
    "(ii) all pivots are > 0.\n",
    "\n",
    "(iii) all subdeterminants > 0.\n",
    "\n",
    "\n",
    "since $p_n > 0$ and $1 - p_n > 0,\\partial F(A,A) \\ge 0 $$\n",
    "\n",
    "$$ |H(F)｜ = \\sum_{n=1}^N \\sum_{m=1}^N y_n^2 y_m^2 z_nz_m(z_nz_m -1)p_n(1-p_n)p_m(1-p_m) $$"
   ]
  },
  {
   "cell_type": "markdown",
   "metadata": {},
   "source": [
    "## Q3：\n",
    "\n",
    "Kernel Matrix K = I. \n",
    "\n",
    "since $$ K(x_m,x_n|x_m = x_n) = 1, K(x_m,x_n|x_m \\neq x_n) = 0 $$\n",
    "\n",
    "For L2 regularized regression, \n",
    "\n",
    "$$ min \\frac{\\lambda}{N} \\sum_{n=1}^N \\sum_{m=1}^N \\beta_n \\beta_m K(x_m,x_n) + \\frac{1}{N} \\sum_{n=1}^N (y_n - \\sum_{m=1} \\beta_m K(x_m,x_n))^2 $$\n",
    "\n",
    "\n",
    "$$ min \\frac{\\lambda}{N} \\beta^T K \\beta + \\frac{1}{N} (\\beta^T K^TK \\beta - 2\\beta^T K^T y + y^Ty )$$\n",
    "\n",
    "$$ \\nabla E(\\beta) = \\frac{2}{N}[\\lambda K\\beta + K^TK \\beta - K^Ty] $$\n",
    "\n",
    "$$ = \\frac{2}{N}K^T [(\\lambda I + K) \\beta - y] $$\n",
    "\n",
    "$$ = 0 $$\n",
    "\n",
    "So \n",
    "\n",
    "$$ \\beta = (\\lambda I  + K)^{-1} y $$\n",
    "\n",
    "$$ \\beta = \\frac{y}{\\lambda + 1} $$\n"
   ]
  },
  {
   "cell_type": "markdown",
   "metadata": {},
   "source": [
    "# Blending"
   ]
  },
  {
   "cell_type": "markdown",
   "metadata": {},
   "source": [
    "## 之前的年份的作业\n",
    "\n",
    "Inorder to cheat from the RMSEs,\n",
    "\n",
    "$$ g = \\widetilde{X}w_g = \\widetilde y $$\n",
    "\n",
    "where, $$ w_g = W * \\alpha =  [w_1, w_2, .. ,w_T]* \\begin{pmatrix} \\alpha_1 \\\\ \\alpha_2 \\\\ .. \\\\ \\alpha_T \\end{pmatrix}, g_t = \\widetilde Xw_t $$\n",
    "\n",
    "Hence, given any $ \\widetilde y \\in R^{\\widetilde{N} * 1} $, exits $ \\alpha $ s.t. $$\\widetilde XW\\alpha = \\widetilde y,  \\widetilde XW \\in R^{\\widetilde{N}*T} $$\n",
    "\n",
    "So, $rank(\\widetilde XW)$ must be $\\widetilde{N}$ ,that is $ T \\ge \\widetilde{N}.$\n",
    "\n",
    "Hence, the minimum number of queries is $\\widetilde{N}$."
   ]
  },
  {
   "cell_type": "markdown",
   "metadata": {},
   "source": [
    "For any given hypothesis g\n",
    "\n",
    "$$ RMSE(g) = (g - \\widetilde y)^2 = g^Tg +  \\widetilde y^T  \\widetilde y - 2g^T  \\widetilde y $$ \n",
    "\n",
    "Hence,\n",
    "\n",
    "$$ 2g^T \\widetilde y = RMSE(g) - g^Tg -  \\widetilde y^T  \\widetilde y  $$ \n",
    "\n",
    "If I can get another g' = 0, i will know \n",
    "\n",
    "$$  \\widetilde y^T  \\widetilde y = RMSE(0) $$ \n",
    "\n",
    "so $$ 2g^T \\widetilde y = RMSE(g) - g^Tg - RMSE(0)  $$ \n",
    "\n",
    "Hence, the minimum number of queries is 2."
   ]
  },
  {
   "cell_type": "markdown",
   "metadata": {},
   "source": [
    "$$\\widetilde XW\\alpha = \\widetilde y,  \\widetilde XW \\in R^{\\widetilde{N}*T} $$\n",
    "\n",
    "multiply $ \\widetilde y^T $,\n",
    "$$\\widetilde y^T \\widetilde XW\\alpha = \\widetilde y^T \\widetilde y,  \\widetilde XW \\in R^{\\widetilde{N}*T} $$\n",
    "\n",
    "\n",
    "$$ \\widetilde y^T \\begin{pmatrix} g_1 & g_2 & ... & g_K \\end{pmatrix} \\begin{pmatrix} \\alpha_1 \\\\ \\alpha_2 \\\\ ... \\\\ \\alpha_K \\end{pmatrix} = \\widetilde y^T \\widetilde y $$\n",
    "\n",
    "From Q9, if already know $ g_0 = 0, g_1,..,g_K $ and corresponding RMSE, we can know that \n",
    "\n",
    "$$ \\begin{pmatrix} RMSE(g_1) - g_1^Tg_1 - RMSE(0) \n",
    " &... & RMSE(g_K) - g_K^Tg_K - RMSE(0)  \\end{pmatrix} \\begin{pmatrix} \\alpha_1 \\\\ \\alpha_2 \\\\ ... \\\\ \\alpha_K \\end{pmatrix} = RMSE(0) $$\n",
    " \n",
    "Only need K = 1(the minimum number of queries need is 2), can obtain the optimal weights. "
   ]
  },
  {
   "cell_type": "markdown",
   "metadata": {},
   "source": [
    "## Q4:\n",
    "\n",
    "\n",
    "1. request size-2 Data $D_t$,\n",
    "$$ D_t =  \\begin{pmatrix} x_1^{[t]} & (x_1^{[t]})^2 \\\\ \n",
    "x_2^{[t]} & (x_2^{[t]})^2\\end{pmatrix} $$ \n",
    "\n",
    "where $ x_1^{[t]},x_2^{[t]} \\in [0,1] $, uniform distribution \n",
    "\n",
    "2. So $g_t$ is the linear model generated by $D_t$\n",
    "\n",
    "$$ g_t(x) = \\frac{(x_2^{[t]})^2- (x_1^{[t]})^2}{x_2^{[t]} - x_1^{[t]}}(x-x_1^{[t]}) + (x_1^{[t]})^2 $$\n",
    "\n",
    "$$ = (x_2^{[t]} + x_1^{[t]})x- x_2^{[t]}x_1^{[t]} $$\n",
    "\n",
    "3. $$ \\bar{g(x)} =  lim_{T->\\infty} \\frac{1}{T} \\sum_{t=1}^T g_t(x) $$\n",
    "\n",
    "$$= lim_{T->\\infty} \\frac{1}{T} \\sum_{t=1}^T (x_2^{[t]} + x_1^{[t]})x- x_2^{[t]}x_1^{[t]} $$\n",
    "\n",
    "$$ = E((\\frac{1}{2} + \\frac{1}{2})x- x_2^{[t]}x_1^{[t]} ) $$\n",
    "$$ = x - E(x_2^{[t]})E(x_1^{[t]} ) $$\n",
    "$$ = x - \\frac{1}{4} $$\n",
    "\n",
    "所以最后的答案是x-1/4"
   ]
  },
  {
   "cell_type": "markdown",
   "metadata": {},
   "source": [
    "# Boosting\n",
    "## Q5,6\n",
    "Recall the adaboost algorithm.\n",
    "\n",
    "(1) $ u^{(1)} = [\\frac{1}{N},\\frac{1}{N},...,\\frac{1}{N}] $\n",
    "\n",
    "(2) obtain $g_1 $ by $A(D,u^{(1)}) $\n",
    "\n",
    "(3) update $ g_2 $ \n",
    "\n",
    "$$u^{(2)}_{-} = u^{(1)} * \\Diamond_1 $$\n",
    "\n",
    "$$u^{(2)}_{+} = u^{(1)} / \\Diamond_1 $$\n",
    "\n",
    "where $ \\Diamond_1 = \\sqrt{\\frac{1-\\epsilon_1}{\\epsilon_1}}, \\epsilon_1 = \\frac{\\sum_{n=1}^N u_{n}^{(1)} [[y_n \\neq g_1(x_n)]] }{\\sum_{n=1}^N u_{n}^{(1)}} $\n",
    "\n",
    "now,$ g_1(x) = 1 $ in the first iteration\n",
    "\n",
    "$ \\epsilon_t = 0.13, $ then, $ \\Diamond_1 = 2.59 $\n",
    "\n",
    "so \n",
    "\n",
    "$$ u^{(2)}_{-} = \\frac{1}{N} * 2.59, u^{(2)}_{+} = \\frac{1}{N} / 2.59 $$ \n",
    "\n",
    "$$ \\frac{u^{(2)}_{+}}{u^{(2)}_{-}} = \\frac{1}{\\Diamond_1^2} = \\frac{\\epsilon_1}{1-\\epsilon_1}= 0.15 $$"
   ]
  },
  {
   "cell_type": "markdown",
   "metadata": {},
   "source": [
    "# Kernel for Decision Stumps\n",
    "\n",
    "$g = \\hat{g} $ if and only if $\\forall x, g(x) = \\hat{g(x)} $ \n",
    "\n",
    "这道题里, L = -M, R = M. \n",
    "\n",
    "对于每一维来说不同的stump的个数为2*(R-L+1)。\n",
    "\n",
    "但是多维下不能直接每一维结果乘以维数d，因为每一维里都包含了全正或者全负的分类，是有重复的（因为即使x $ \\neq $ x', 全正or负的分类会将他们全预测为正or负）。如果每一维里去掉全正全负两类，那么就有2*(R-L)个，再乘以维度d，最后加上全正全负两个，则结果是 2d (R-L) + 2 \n",
    "\n",
    "\n",
    "## Q7:\n",
    "in the case of d = 2 and M = 5, the number of decision stumps is 42"
   ]
  },
  {
   "cell_type": "markdown",
   "metadata": {},
   "source": [
    "## Q8:\n",
    "$$ \\phi_{ds}(x) = (g_1(x),g_2(x),..,g_{|2d(R-L)+2|}(x)) $$\n",
    "\n",
    "$$ = (sign(x_1 - (L + 1)),-sign(x_1 - (L + 1)),...,sign(x_1 - R),-sign(x_1 - R),sign(x_2 - (L + 1)),...,sign(x_n - R),-sign(x_n - R), sign(x_1 - L),-sign(x_1 - L) ) $$\n",
    "\n",
    "\n",
    "\n",
    "\n",
    "$$ K_{ds}(x,x') = (\\phi_{ds}(x))^T (\\phi_{ds}(x)) $$\n",
    "\n",
    "$$ =2 *[sign(x_1 - (L+1))sign(x_1' - (L+1)) + .. + sign(x_1 - R)sign(x_1' - R) + sign(x_n - R)sign(x_n'-R) + sign(x_1 - L)sign(x_1'-L)] $$"
   ]
  },
  {
   "cell_type": "markdown",
   "metadata": {},
   "source": [
    "由Q7得，括号里的term的个数是d(R-L) + 1. \n",
    "\n",
    "对于$x_i,x_i'$来说，如果它们都小于L+1,或者都大于L+1,则乘积是1,则括号里的和是d(R-L)+1; 只有当$ L+1 \\in [min(x_i,x_i'),max(x_i,x_i')] $, 乘积是-1.\n",
    "\n",
    "所以式子 $= 2[d(R-L)+1 - 2|(x,x')|_1] = 2d(R-L) - 4|(x,x')|_1 + 2$"
   ]
  },
  {
   "cell_type": "markdown",
   "metadata": {},
   "source": [
    "# Experiment with Kernel Ridge Regression"
   ]
  },
  {
   "cell_type": "markdown",
   "metadata": {},
   "source": [
    "The object function of the kernel ridge regression:\n",
    "\n",
    "$$ E_{aug}(\\beta) = \\frac{\\lambda}{N} \\beta^T K \\beta + \\frac{1}{N} (\\beta^T K^T K \\beta - 2\\beta^T K^T y + y^Ty)，\n",
    "K = exp(-\\gamma ||x-x'||^2) $$\n",
    "\n",
    "Since,\n",
    "\n",
    "$$ \\nabla  E_{aug}(\\beta) =  \\frac{2}{N} K^T [(\\lambda I +K) \\beta - y ] = 0 $$\n",
    "\n",
    "$$ \\beta = (\\lambda I +K)^{-1} y, \\ w = Z^T * \\beta $$\n",
    "\n",
    "Hence,\n",
    "\n",
    "$$ y_{predict} = Z * w = ZZ^T \\beta = K(X,X) * \\beta $$\n",
    "\n",
    "$$ y\\_test_{predict} = K(\\widetilde X, X) * \\beta $$\n"
   ]
  },
  {
   "cell_type": "code",
   "execution_count": 21,
   "metadata": {},
   "outputs": [],
   "source": [
    "\n",
    "\n",
    "def data_form(path,bias=False):\n",
    "    D = np.loadtxt(path)\n",
    "    D_test = D[400:]\n",
    "    D = D[:400]\n",
    "    \n",
    "    X = D[:,:-1].astype('float') # 一定要是float格式才可以\n",
    "    if bias: X = np.c_[np.ones(X.shape[0]),X]\n",
    "    y = D[:,-1].copy().reshape(-1,1)\n",
    "    X_test = D_test[:,:-1].astype('float') # 一定要是float格式才可以\n",
    "    if bias: X_test = np.c_[np.ones(X_test.shape[0]),X_test]\n",
    "    y_test = D_test[:,-1].copy().reshape(-1,1)\n",
    "    \n",
    "    return X,y,X_test,y_test\n",
    "\n",
    "def compute_Kernel(X_,X,gamma,kernel=False):\n",
    "    M = X_.shape[0]\n",
    "    N = X.shape[0]\n",
    "    K = np.zeros((M,N))\n",
    "    \n",
    "    if kernel:\n",
    "        for i in range(M):\n",
    "            for j in range(N):\n",
    "                K[i][j] = math.exp(-gamma * np.sum((X_[i] - X[j]) ** 2))            \n",
    "        return np.mat(K)\n",
    "    else:\n",
    "        return np.mat(X_) * np.mat(X).T\n",
    "        \n",
    "def fit_Kernel(X,y,lamda,gamma,kernel=False):\n",
    "    N = X.shape[0]\n",
    "    K = compute_Kernel(X,X,gamma,kernel)\n",
    "    beta = lin.pinv(lamda * np.eye(N) + K) * np.mat(y)\n",
    "    return beta\n"
   ]
  },
  {
   "cell_type": "code",
   "execution_count": 22,
   "metadata": {},
   "outputs": [
    {
     "name": "stdout",
     "output_type": "stream",
     "text": [
      "the minimum e_in is 0.0\n",
      "the minimum e_out is 0.39\n"
     ]
    }
   ],
   "source": [
    "X,y,X_test,y_test = data_form('技法hw2_lssvm_all.dat.txt')\n",
    "\n",
    "gamma_lst = [32, 2, 0.125]\n",
    "lamda_lst = [0.001, 1, 1000]\n",
    "e_in = pd.DataFrame(columns=lamda_lst,index=gamma_lst)\n",
    "e_out = pd.DataFrame(columns=lamda_lst,index=gamma_lst)\n",
    "for gamma in gamma_lst:\n",
    "    K = compute_Kernel(X,X,gamma,True)\n",
    "    K2 = compute_Kernel(X_test,X,gamma,True)\n",
    "    for lamda in lamda_lst:\n",
    "        beta = fit_Kernel(X,y,lamda,gamma,True)\n",
    "        \n",
    "        y_predict = K * beta\n",
    "        y_test_predict = K2 * beta\n",
    "        \n",
    "        e_in.loc[gamma,lamda] = np.mean(np.sign(y_predict) != y)        \n",
    "        e_out.loc[gamma,lamda] = np.mean(np.sign(y_test_predict) != y_test)\n",
    "\n",
    "print('the minimum e_in is',np.min(np.min(e_in,axis=0)))\n",
    "print('the minimum e_out is',np.min(np.min(e_out,axis=0)))"
   ]
  },
  {
   "cell_type": "markdown",
   "metadata": {},
   "source": [
    "# Experiment with Bagging Ridge Regression\n",
    "## Q9,10\n",
    "\n",
    "这道题里，没有了kernel，其实相当于\n",
    "\n",
    "$$K(\\widetilde X, X) = \\widetilde X^T *  X $$"
   ]
  },
  {
   "cell_type": "code",
   "execution_count": 41,
   "metadata": {},
   "outputs": [
    {
     "name": "stdout",
     "output_type": "stream",
     "text": [
      "the minimum e_in is 0.315 the lamda is 50\n",
      "the minimum e_out is 0.36 the lamda is 0.05\n"
     ]
    }
   ],
   "source": [
    "X,y,X_test,y_test = data_form('技法hw2_lssvm_all.dat.txt',bias=True)\n",
    "\n",
    "lamda_lst = [0.05, 0.5, 5,50, 500]\n",
    "e_in = np.zeros(len(lamda_lst))\n",
    "e_out = np.zeros(len(lamda_lst))\n",
    "\n",
    "i = 0\n",
    "for lamda in lamda_lst:\n",
    "    K = compute_Kernel(X,X,0,False)\n",
    "    K2 = compute_Kernel(X_test,X,0,False)\n",
    "    \n",
    "    beta = fit_Kernel(X,y,lamda,0,False)\n",
    "    \n",
    "    y_predict = K * beta\n",
    "    y_test_predict = K2 * beta\n",
    "\n",
    "    e_in[i] = np.mean(np.sign(y_predict) != y)        \n",
    "    e_out[i] = np.mean(np.sign(y_test_predict) != y_test)\n",
    "    \n",
    "    i += 1\n",
    "\n",
    "# out = np.c_[lamda_lst,e_in,e_out].astype(str)\n",
    "print('the minimum e_in is',np.min(e_in),'the lamda is',lamda_lst[np.argmin(e_in)])\n",
    "print('the minimum e_out is',np.min(e_out),'the lamda is',lamda_lst[np.argmin(e_out)])"
   ]
  },
  {
   "cell_type": "markdown",
   "metadata": {},
   "source": [
    "## Q11,12 bagging with voting"
   ]
  },
  {
   "cell_type": "code",
   "execution_count": 42,
   "metadata": {},
   "outputs": [],
   "source": [
    "def bootstrap(X,y):\n",
    "    N = X.shape[0]\n",
    "    boot_lst = []\n",
    "    for i in range(len(X)):\n",
    "        boot_lst.append(int(np.floor(np.random.random()*N)))\n",
    "    now_X = X[boot_lst]\n",
    "    now_y = y[boot_lst]\n",
    "    return now_X,now_y"
   ]
  },
  {
   "cell_type": "markdown",
   "metadata": {},
   "source": [
    "this diversity is constructed by data randomness. "
   ]
  },
  {
   "cell_type": "code",
   "execution_count": 43,
   "metadata": {},
   "outputs": [],
   "source": [
    "X,y,X_test,y_test = data_form('技法hw2_lssvm_all.dat.txt',bias=True)\n",
    "lamda_lst = [0.05, 0.5, 5,50, 500]\n",
    "e_in = []\n",
    "e_out = []\n",
    "\n",
    "for lamda in lamda_lst:\n",
    "    y_predict_sum = np.zeros((len(y),1))\n",
    "    y_predict_test_sum = np.zeros((len(y_test),1))\n",
    "    \n",
    "    for iter in range(250):\n",
    "        # bagging的精髓是bootstrapping:\n",
    "        # 做250次bootstrapping，即有250个g\n",
    "        now_X,now_y = bootstrap(X,y)\n",
    "\n",
    "        # 使用新资料来训练底层的lssvm, beta可以看作是一个g\n",
    "        beta = fit_Kernel(now_X,now_y,lamda,0,False) \n",
    "        \n",
    "        # note that each linear LSSVM should take the sign operation before aggregation\n",
    "        # 虽然用now_X训练，但是最后fit in sample data的时候\n",
    "        K = compute_Kernel(X,now_X,0,False)\n",
    "        y_predict = np.sign(K * beta)\n",
    "        K2 = compute_Kernel(X_test,now_X,0,False)\n",
    "        y_predict_test = np.sign(K2 * beta) \n",
    "        \n",
    "        y_predict_sum += y_predict\n",
    "        y_predict_test_sum += y_predict_test\n",
    "       \n",
    "    \n",
    "    # 如果是linear aggregation, 需要在训练集上训练，但是这里是uniform voting，不需要训练\n",
    "    # bagging with unifrom aggregation\n",
    "    y_predict = y_predict_sum / 250\n",
    "    y_predict_test = y_predict_test_sum / 250 \n",
    "    \n",
    "    e_in.append(np.mean(np.sign(y_predict) != y))\n",
    "    e_out.append(np.mean(np.sign(y_predict_test) != y_test))"
   ]
  },
  {
   "cell_type": "code",
   "execution_count": 44,
   "metadata": {},
   "outputs": [
    {
     "name": "stdout",
     "output_type": "stream",
     "text": [
      "the minimum e_in is 0.315 the lamda is 0.5\n",
      "the minimum e_out is 0.36 the lamda is 0.05\n"
     ]
    }
   ],
   "source": [
    "print('the minimum e_in is',np.min(e_in),'the lamda is',lamda_lst[np.argmin(e_in)])\n",
    "print('the minimum e_out is',np.min(e_out),'the lamda is',lamda_lst[np.argmin(e_out)])"
   ]
  },
  {
   "cell_type": "markdown",
   "metadata": {},
   "source": [
    "# Experiments with Adaptive Boosting\n",
    "## AdaBoost-Stump algorithm"
   ]
  },
  {
   "cell_type": "code",
   "execution_count": 25,
   "metadata": {},
   "outputs": [],
   "source": [
    "def data_form(path,bias=False):\n",
    "    D = np.loadtxt(path)\n",
    "\n",
    "    X = D[:,:-1].astype('float') # 一定要是float格式才可以\n",
    "    if bias: X = np.c_[np.ones(X.shape[0]),X]\n",
    "    y = D[:,-1].copy()\n",
    "\n",
    "    return X,y\n",
    "\n",
    "def get_error(x,y,weights,theta,s):\n",
    "    # s * sign(x-theta)\n",
    "    sum_ = 0\n",
    "    \n",
    "    y_predict = s * np.sign(x - theta)\n",
    "    for i in range(len(y)):\n",
    "        if y_predict[i] != y[i]:\n",
    "            sum_ += weights[i] \n",
    "            \n",
    "    err = sum_/np.sum(weights)\n",
    "    return err\n",
    "\n",
    "def decision_stump_1d(x,y,weights):\n",
    "    # 一维decision stump算法，对x_i, 遍历theta 和 s，找出最优\n",
    "    \n",
    "    # x.shape = N,1\n",
    "    \n",
    "    N,d = X.shape\n",
    "    \n",
    "    min_err = 1\n",
    "    best_s = 0\n",
    "    best_theta = 0\n",
    "    best_dim = -1\n",
    "    \n",
    "\n",
    "    thetas = (x[:-1] + x[1:])/2\n",
    "        \n",
    "    for s in [1,-1]:\n",
    "        for theta in thetas: \n",
    "            err = get_error(x,y,weights,theta,s)\n",
    "\n",
    "            if err < min_err: \n",
    "                min_err = err\n",
    "                best_s = s\n",
    "                best_theta = theta\n",
    "\n",
    "    return [min_err,best_s,best_theta]\n",
    "\n",
    "def decision_stump(X,y,weights):\n",
    "    # 遍历每一维最优的s和theta，选出最优\n",
    "    \n",
    "    min_err = 1\n",
    "    best_s = 0\n",
    "    best_theta = 0\n",
    "    best_dim = -1\n",
    "    \n",
    "    for dim in range(X.shape[1]):\n",
    "        x = X[:,dim]\n",
    "        [err,s,theta] = decision_stump_1d(x,y,weights)\n",
    "        \n",
    "        if err < min_err:\n",
    "            min_err = err\n",
    "            best_s = s\n",
    "            best_theta = theta\n",
    "            best_dim = dim\n",
    "            \n",
    "    return [min_err,best_s,best_theta,best_dim]\n",
    "\n",
    "def update_alpha(err):\n",
    "    # 记录每个model的alpha，即最终blending时候的权重\n",
    "    diamond = np.sqrt((1-err)/err)\n",
    "    alpha = np.log(diamond)\n",
    "    \n",
    "    return alpha \n",
    "\n",
    "def update_weights(best_s,best_theta,x,y,weights,err):\n",
    "    # 放大错误\n",
    "    new_weights = weights.copy()\n",
    "    \n",
    "    diamond = np.sqrt((1-err)/err)\n",
    "    # incorrect * diamond \n",
    "    # correct / diamond \n",
    "    y_predict = best_s * np.sign(x - best_theta)\n",
    "    assert(y_predict.shape == y.shape)\n",
    "    \n",
    "    tmp = (y_predict != y)\n",
    "    new_weights[tmp] = weights[tmp] * diamond \n",
    "    new_weights[~tmp] = weights[~tmp] / diamond \n",
    "    \n",
    "    return new_weights\n",
    "\n",
    "def adaboost_stump(X,y,T):\n",
    "    N,d = X.shape\n",
    "\n",
    "    err_lst = np.zeros((T))\n",
    "    best_s_lst = np.zeros((T))\n",
    "    best_theta_lst = np.zeros((T))\n",
    "    best_dim_lst = np.zeros((T))\n",
    "    alpha_lst = np.zeros((T))\n",
    "    weights_lst = np.zeros((T))\n",
    "    \n",
    "    weights = np.ones((N)) / N  # 初始化,uniform voting\n",
    "\n",
    "    for i in range(T):\n",
    "        # 第一个model\n",
    "        [err, best_s, best_theta, best_dim] = decision_stump(X,y,weights)\n",
    "        alpha = update_alpha(err)\n",
    "        \n",
    "        # 记录model \n",
    "        err_lst[i] = err\n",
    "        best_s_lst[i] = best_s\n",
    "        best_theta_lst[i] = best_theta\n",
    "        best_dim_lst[i] = best_dim\n",
    "        alpha_lst[i] = alpha \n",
    "        weights_lst[i] = np.sum(weights)\n",
    "        \n",
    "        # 放大错误\n",
    "        weights = update_weights(best_s,best_theta,X[:,best_dim],y,weights,err)\n",
    "        \n",
    "    model = np.c_[err_lst,best_s_lst,best_theta_lst,best_dim_lst,weights_lst,alpha_lst] \n",
    "    model = pd.DataFrame(model)\n",
    "    model.columns = ['err','best_s','best_theta','best_dim','weights_sum','alpha'] \n",
    "    \n",
    "    return model \n",
    "\n",
    "def bagging_fit(model,X):\n",
    "    \"\"\"\n",
    "    model: dataframe with columns ['err','best_s','best_theta','best_dim','weights_sum','alpha'] \n",
    "    returns:\n",
    "    y_predict \n",
    "    \"\"\"\n",
    "    iter_ = model.shape[0]\n",
    "    sum_ = np.zeros((X.shape[0]))\n",
    "    \n",
    "    for i in range(iter_):\n",
    "        now_model = model.iloc[i]\n",
    "        now_dim = int(now_model['best_dim'])\n",
    "        now_s = now_model['best_s']\n",
    "        now_theta = now_model['best_theta']\n",
    "        now_alpha = now_model['alpha']\n",
    "        \n",
    "        sum_ += now_alpha * now_s * np.sign(X[:,now_dim] - now_theta)\n",
    "        \n",
    "    y_predict = np.sign(sum_ / np.sum(model['alpha']))\n",
    "    return y_predict\n"
   ]
  },
  {
   "cell_type": "code",
   "execution_count": 26,
   "metadata": {},
   "outputs": [],
   "source": [
    "X,y = data_form('hw2_adaboost_train.dat.txt',bias=False)\n",
    "X_test,y_test = data_form('hw2_adaboost_test.dat.txt',bias=False)\n",
    "\n",
    "T = 300\n",
    "model = adaboost_stump(X,y,T)"
   ]
  },
  {
   "cell_type": "markdown",
   "metadata": {},
   "source": [
    "## Q13:"
   ]
  },
  {
   "cell_type": "code",
   "execution_count": 27,
   "metadata": {},
   "outputs": [
    {
     "data": {
      "image/png": "[encoded data removed]",
      "text/plain": [
       "<Figure size 432x288 with 1 Axes>"
      ]
     },
     "metadata": {
      "needs_background": "light"
     },
     "output_type": "display_data"
    }
   ],
   "source": [
    "plt.plot(model['err'])\n",
    "plt.xlabel('t')\n",
    "plt.ylabel('E_in(g_t)')\n",
    "plt.show()"
   ]
  },
  {
   "cell_type": "markdown",
   "metadata": {},
   "source": [
    "## Q14:\n",
    "e_in(G) is decreasing,a nd e_in(G_T) is 0."
   ]
  },
  {
   "cell_type": "code",
   "execution_count": 28,
   "metadata": {},
   "outputs": [
    {
     "data": {
      "image/png": "[encoded data removed]",
      "text/plain": [
       "<Figure size 432x288 with 1 Axes>"
      ]
     },
     "metadata": {
      "needs_background": "light"
     },
     "output_type": "display_data"
    }
   ],
   "source": [
    "e_in_G = []\n",
    "for iter_ in range(1,T+1):\n",
    "    y_predict = bagging_fit(model[:iter_],X)\n",
    "    e_in_G.append(np.mean(y_predict != y))\n",
    "\n",
    "plt.plot(e_in_G)\n",
    "plt.xlabel('t')\n",
    "plt.ylabel('E_in(G_t)')\n",
    "plt.show()"
   ]
  },
  {
   "cell_type": "markdown",
   "metadata": {},
   "source": [
    "## Q15:\n",
    "$ U_t $ is decreasing, $ U_T $ is  0.07.\n",
    "\n",
    "This is because the number of incorrect dp is samller than that of correct dp. So gradually, the weights sum decreases."
   ]
  },
  {
   "cell_type": "code",
   "execution_count": 29,
   "metadata": {},
   "outputs": [
    {
     "data": {
      "image/png": "[encoded data removed]",
      "text/plain": [
       "<Figure size 432x288 with 1 Axes>"
      ]
     },
     "metadata": {
      "needs_background": "light"
     },
     "output_type": "display_data"
    }
   ],
   "source": [
    "plt.plot(model['weights_sum'])\n",
    "plt.xlabel('t')\n",
    "plt.ylabel('u(t)')\n",
    "plt.show()"
   ]
  },
  {
   "cell_type": "markdown",
   "metadata": {},
   "source": [
    "## Q16:\n",
    "\n",
    "$ E_out(G_t) $ 先下降后上升."
   ]
  },
  {
   "cell_type": "code",
   "execution_count": 30,
   "metadata": {},
   "outputs": [
    {
     "data": {
      "image/png": "[encoded data removed]",
      "text/plain": [
       "<Figure size 432x288 with 1 Axes>"
      ]
     },
     "metadata": {
      "needs_background": "light"
     },
     "output_type": "display_data"
    }
   ],
   "source": [
    "e_out_G = []\n",
    "for iter_ in range(1,T+1):\n",
    "    y_predict_test = bagging_fit(model[:iter_],X_test)\n",
    "    e_out_G.append(np.mean(y_predict_test != y_test))\n",
    "\n",
    "plt.plot(e_out_G)\n",
    "plt.xlabel('t')\n",
    "plt.ylabel('E_out(G_t)')\n",
    "plt.show()"
   ]
  },
  {
   "cell_type": "code",
   "execution_count": null,
   "metadata": {},
   "outputs": [],
   "source": [
    "5 hao"
   ]
  }
 ],
 "metadata": {
  "kernelspec": {
   "display_name": "Python 3",
   "language": "python",
   "name": "python3"
  },
  "language_info": {
   "codemirror_mode": {
    "name": "ipython",
    "version": 3
   },
   "file_extension": ".py",
   "mimetype": "text/x-python",
   "name": "python",
   "nbconvert_exporter": "python",
   "pygments_lexer": "ipython3",
   "version": "3.7.6"
  }
 },
 "nbformat": 4,
 "nbformat_minor": 2
}
